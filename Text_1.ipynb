{
 "cells": [
  {
   "cell_type": "code",
   "execution_count": 1,
   "metadata": {},
   "outputs": [
    {
     "name": "stdout",
     "output_type": "stream",
     "text": [
      "4.2.0\n"
     ]
    }
   ],
   "source": [
    "import cv2\n",
    "import numpy as np\n",
    "from typing import List\n",
    "import matplotlib\n",
    "import matplotlib.pyplot as plt\n",
    "#image_file = r\"C:\\Users\\cola\\Downloads\\test.jpg\"\n",
    "#img = cv2.imread(image_file)\n",
    "#gray = cv2.cvtColor(img, cv2.COLOR_BGR2GRAY)\n",
    "#ret, thresh = cv2.threshold(gray, 0, 255, cv2.THRESH_BINARY)\n",
    "#img_erode = cv2.erode(thresh, np.ones((3, 3), np.uint8), iterations=1)\n",
    "\n",
    "print(cv2.__version__)\n"
   ]
  },
  {
   "cell_type": "code",
   "execution_count": 2,
   "metadata": {},
   "outputs": [],
   "source": [
    "#contours, hierarchy = cv2.findContours(img_erode, cv2.RETR_TREE, cv2.CHAIN_APPROX_NONE)"
   ]
  },
  {
   "cell_type": "code",
   "execution_count": 3,
   "metadata": {},
   "outputs": [],
   "source": [
    "#output = img.copy()"
   ]
  },
  {
   "cell_type": "code",
   "execution_count": 4,
   "metadata": {},
   "outputs": [],
   "source": [
    "#for idx, contour in enumerate(contours):\n",
    "  #  (x, y, w, h) = cv2.boundingRect(contour)\n",
    "    # print(\"R\", idx, x, y, w, h, cv2.contourArea(contour), hierarchy[0][idx])\n",
    "    # hierarchy[i][0]: the index of the next contour of the same level\n",
    "    # hierarchy[i][1]: the index of the previous contour of the same level\n",
    "    # hierarchy[i][2]: the index of the first child\n",
    "    # hierarchy[i][3]: the index of the parent\n",
    "  #  if hierarchy[0][idx][3] == 0:\n",
    "    #    cv2.rectangle(output, (x, y), (x + w, y + h), (70, 0, 0), 1)"
   ]
  },
  {
   "cell_type": "code",
   "execution_count": 5,
   "metadata": {},
   "outputs": [],
   "source": [
    "#cv2.imshow(\"Input\", img)\n",
    "#cv2.imshow(\"Enlarged\", img_erode)\n",
    "#cv2.imshow(\"Output\", output)\n",
    "#cv2.waitKey(0)"
   ]
  },
  {
   "cell_type": "code",
   "execution_count": 6,
   "metadata": {},
   "outputs": [],
   "source": [
    "def letters_extract(image_file: str, out_size=28) -> List[any]:\n",
    "    img = cv2.imread(image_file)\n",
    "    gray = cv2.cvtColor(img, cv2.COLOR_BGR2GRAY)\n",
    "    ret, thresh = cv2.threshold(gray, 0, 255, cv2.THRESH_BINARY)\n",
    "    img_erode = cv2.erode(thresh, np.ones((3, 3), np.uint8), iterations=1)\n",
    "     # Get contours\n",
    "    contours, hierarchy = cv2.findContours(img_erode, cv2.RETR_TREE, cv2.CHAIN_APPROX_NONE)\n",
    "    output = img.copy()\n",
    "    letters = []\n",
    "    for idx, contour in enumerate(contours):\n",
    "        (x, y, w, h) = cv2.boundingRect(contour)\n",
    "        # print(\"R\", idx, x, y, w, h, cv2.contourArea(contour), hierarchy[0][idx])\n",
    "        # hierarchy[i][0]: the index of the next contour of the same level\n",
    "        # hierarchy[i][1]: the index of the previous contour of the same level\n",
    "        # hierarchy[i][2]: the index of the first child\n",
    "        # hierarchy[i][3]: the index of the parent\n",
    "        if hierarchy[0][idx][3] == 0:\n",
    "            cv2.rectangle(output, (x, y), (x + w, y + h), (70, 0, 0), 1)\n",
    "            letter_crop = gray[y:y + h, x:x + w]\n",
    "            # print(letter_crop.shape)\n",
    "            # Resize letter canvas to square\n",
    "            size_max = max(w, h)\n",
    "            letter_square = 255 * np.ones(shape=[size_max, size_max], dtype=np.uint8)\n",
    "            if w > h:\n",
    "                # Enlarge image top-bottom\n",
    "                # ------\n",
    "                # ======\n",
    "                # ------\n",
    "                y_pos = size_max//2 - h//2\n",
    "                letter_square[y_pos:y_pos + h, 0:w] = letter_crop\n",
    "            elif w < h:\n",
    "                # Enlarge image left-right\n",
    "                # --||--\n",
    "                x_pos = size_max//2 - w//2\n",
    "                letter_square[0:h, x_pos:x_pos + w] = letter_crop\n",
    "            else:\n",
    "                letter_square = letter_crop\n",
    "\n",
    "            # Resize letter to 28x28 and add letter and its X-coordinate\n",
    "            letters.append((x, w, cv2.resize(letter_square, (out_size, out_size), interpolation=cv2.INTER_AREA)))\n",
    "\n",
    "    # Sort array in place by X-coordinate\n",
    "    letters.sort(key=lambda x: x[0], reverse=False)\n",
    "\n",
    "    return letters"
   ]
  },
  {
   "cell_type": "code",
   "execution_count": 7,
   "metadata": {},
   "outputs": [],
   "source": [
    "#letters = letters_extract(image_file)\n",
    "##cv2.imshow(\"0\", letters[0][2])\n",
    "#cv2.imshow(\"1\", letters[1][2])\n",
    "#cv2.imshow(\"2\", letters[2][2])\n",
    "#cv2.imshow(\"3\", letters[3][2])\n",
    "#cv2.imshow(\"4\", letters[4][2])\n",
    "#cv2.waitKey(0)"
   ]
  },
  {
   "cell_type": "code",
   "execution_count": 8,
   "metadata": {},
   "outputs": [],
   "source": [
    "emnist_labels = [48, 49, 50, 51, 52, 53, 54, 55, 56, 57, 65, 66, 67, 68, 69, 70, 71, 72, 73, 74, 75, 76, 77, 78, 79, 80, 81, 82, 83, 84, 85, 86, 87, 88, 89, 90, 97, 98, 99, 100, 101, 102, 103, 104, 105, 106, 107, 108, 109, 110, 111, 112, 113, 114, 115, 116, 117, 118, 119, 120, 121, 122]"
   ]
  },
  {
   "cell_type": "code",
   "execution_count": 9,
   "metadata": {},
   "outputs": [],
   "source": [
    "from tensorflow import keras\n",
    "from tensorflow.keras.models import Sequential\n",
    "from tensorflow.keras import optimizers\n",
    "from tensorflow.keras.layers import Convolution2D, MaxPooling2D, Dropout, Flatten, Dense, Reshape, LSTM, BatchNormalization\n",
    "from tensorflow.keras.optimizers import SGD, RMSprop, Adam\n",
    "from tensorflow.keras import backend as K\n",
    "#from tensorflow.keras.constraints import maxnorm\n",
    "import tensorflow as tf"
   ]
  },
  {
   "cell_type": "code",
   "execution_count": 10,
   "metadata": {},
   "outputs": [],
   "source": [
    "def emnist_model():\n",
    "    model = Sequential()\n",
    "    model.add(Convolution2D(filters=32, kernel_size=(3, 3), padding='valid', input_shape=(28, 28, 1), activation='relu'))\n",
    "    model.add(Convolution2D(filters=64, kernel_size=(3, 3), activation='relu'))\n",
    "    model.add(MaxPooling2D(pool_size=(2, 2)))\n",
    "    model.add(Dropout(0.25))\n",
    "    model.add(Flatten())\n",
    "    model.add(Dense(512, activation='relu'))\n",
    "    model.add(Dropout(0.5))\n",
    "    model.add(Dense(len(emnist_labels), activation='softmax'))\n",
    "    model.compile(loss='categorical_crossentropy', optimizer='adadelta', metrics=['accuracy'])\n",
    "    return model"
   ]
  },
  {
   "cell_type": "code",
   "execution_count": 11,
   "metadata": {
    "scrolled": true
   },
   "outputs": [
    {
     "name": "stdout",
     "output_type": "stream",
     "text": [
      "Requirement already satisfied: idx2numpy in c:\\users\\orlov\\appdata\\local\\programs\\python\\python37\\lib\\site-packages (1.2.2)\n",
      "Requirement already satisfied: numpy in c:\\users\\orlov\\appdata\\local\\programs\\python\\python37\\lib\\site-packages (from idx2numpy) (1.18.2)\n",
      "Requirement already satisfied: six in c:\\users\\orlov\\appdata\\local\\programs\\python\\python37\\lib\\site-packages (from idx2numpy) (1.14.0)\n"
     ]
    }
   ],
   "source": [
    "!pip install --user idx2numpy\n",
    "import idx2numpy\n",
    "#import emnist\n",
    "\n"
   ]
  },
  {
   "cell_type": "code",
   "execution_count": 16,
   "metadata": {},
   "outputs": [
    {
     "ename": "SyntaxError",
     "evalue": "Missing parentheses in call to 'print'. Did you mean print(X_train[0])? (<ipython-input-16-2ca412442f1c>, line 31)",
     "output_type": "error",
     "traceback": [
      "\u001b[1;36m  File \u001b[1;32m\"<ipython-input-16-2ca412442f1c>\"\u001b[1;36m, line \u001b[1;32m31\u001b[0m\n\u001b[1;33m    print X_train[0]\u001b[0m\n\u001b[1;37m                ^\u001b[0m\n\u001b[1;31mSyntaxError\u001b[0m\u001b[1;31m:\u001b[0m Missing parentheses in call to 'print'. Did you mean print(X_train[0])?\n"
     ]
    }
   ],
   "source": [
    "emnist_path = 'C:/Users/orlov/emnist/'\n",
    "X_train = idx2numpy.convert_from_file(emnist_path + 'emnist-byclass-train-images-idx3-ubyte')\n",
    "y_train = idx2numpy.convert_from_file(emnist_path + 'emnist-byclass-train-labels-idx1-ubyte')\n",
    "plt.imshow(X_train[50])\n",
    "print(y_train[50])\n",
    "\n",
    "\n",
    "X_test = idx2numpy.convert_from_file(emnist_path + 'emnist-byclass-test-images-idx3-ubyte')\n",
    "y_test = idx2numpy.convert_from_file(emnist_path + 'emnist-byclass-test-labels-idx1-ubyte')\n",
    "\n",
    "X_train = np.reshape(X_train, (X_train.shape[0], 28, 28, 1))\n",
    "X_test = np.reshape(X_test, (X_test.shape[0], 28, 28, 1))\n",
    "\n",
    "print(X_train.shape, y_train.shape, X_test.shape, y_test.shape, len(emnist_labels))\n",
    "\n",
    "k = 10\n",
    "X_train = X_train[:X_train.shape[0] // k]\n",
    "y_train = y_train[:y_train.shape[0] // k]\n",
    "X_test = X_test[:X_test.shape[0] // k]\n",
    "y_test = y_test[:y_test.shape[0] // k]\n",
    "\n",
    "# Normalize\n",
    "X_train = X_train.astype(np.float32)\n",
    "X_train /= 255.0\n",
    "X_test = X_test.astype(np.float32)\n",
    "X_test /= 255.0\n",
    "\n",
    "x_train_cat = keras.utils.to_categorical(y_train, len(emnist_labels))\n",
    "y_test_cat = keras.utils.to_categorical(y_test, len(emnist_labels))\n",
    " \n",
    "print X_train[0]"
   ]
  },
  {
   "cell_type": "code",
   "execution_count": 15,
   "metadata": {},
   "outputs": [
    {
     "name": "stdout",
     "output_type": "stream",
     "text": [
      "Train on 69793 samples, validate on 11632 samples\n",
      "Epoch 1/60\n",
      "69760/69793 [============================>.] - ETA: 0s - loss: 4.0257 - accuracy: 0.0722WARNING:tensorflow:Reduce LR on plateau conditioned on metric `val_acc` which is not available. Available metrics are: loss,accuracy,val_loss,val_accuracy,lr\n",
      "69793/69793 [==============================] - 94s 1ms/sample - loss: 4.0257 - accuracy: 0.0723 - val_loss: 3.8891 - val_accuracy: 0.2432\n",
      "Epoch 2/60\n",
      "69760/69793 [============================>.] - ETA: 0s - loss: 3.7611 - accuracy: 0.1466WARNING:tensorflow:Reduce LR on plateau conditioned on metric `val_acc` which is not available. Available metrics are: loss,accuracy,val_loss,val_accuracy,lr\n",
      "69793/69793 [==============================] - 74s 1ms/sample - loss: 3.7610 - accuracy: 0.1466 - val_loss: 3.5656 - val_accuracy: 0.3319\n",
      "Epoch 3/60\n",
      "69760/69793 [============================>.] - ETA: 0s - loss: 3.4711 - accuracy: 0.2209WARNING:tensorflow:Reduce LR on plateau conditioned on metric `val_acc` which is not available. Available metrics are: loss,accuracy,val_loss,val_accuracy,lr\n",
      "69793/69793 [==============================] - 72s 1ms/sample - loss: 3.4711 - accuracy: 0.2210 - val_loss: 3.2411 - val_accuracy: 0.3828\n",
      "Epoch 4/60\n",
      "69760/69793 [============================>.] - ETA: 0s - loss: 3.2008 - accuracy: 0.2909WARNING:tensorflow:Reduce LR on plateau conditioned on metric `val_acc` which is not available. Available metrics are: loss,accuracy,val_loss,val_accuracy,lr\n",
      "69793/69793 [==============================] - 77s 1ms/sample - loss: 3.2009 - accuracy: 0.2909 - val_loss: 2.9339 - val_accuracy: 0.4249\n",
      "Epoch 5/60\n",
      "69760/69793 [============================>.] - ETA: 0s - loss: 2.9452 - accuracy: 0.3455WARNING:tensorflow:Reduce LR on plateau conditioned on metric `val_acc` which is not available. Available metrics are: loss,accuracy,val_loss,val_accuracy,lr\n",
      "69793/69793 [==============================] - 77s 1ms/sample - loss: 2.9454 - accuracy: 0.3454 - val_loss: 2.6543 - val_accuracy: 0.4548\n",
      "Epoch 6/60\n",
      "69760/69793 [============================>.] - ETA: 0s - loss: 2.7201 - accuracy: 0.3874WARNING:tensorflow:Reduce LR on plateau conditioned on metric `val_acc` which is not available. Available metrics are: loss,accuracy,val_loss,val_accuracy,lr\n",
      "69793/69793 [==============================] - 78s 1ms/sample - loss: 2.7202 - accuracy: 0.3873 - val_loss: 2.4232 - val_accuracy: 0.4795\n",
      "Epoch 7/60\n",
      "69760/69793 [============================>.] - ETA: 0s - loss: 2.5342 - accuracy: 0.4189WARNING:tensorflow:Reduce LR on plateau conditioned on metric `val_acc` which is not available. Available metrics are: loss,accuracy,val_loss,val_accuracy,lr\n",
      "69793/69793 [==============================] - 73s 1ms/sample - loss: 2.5339 - accuracy: 0.4190 - val_loss: 2.2406 - val_accuracy: 0.5011\n",
      "Epoch 8/60\n",
      "69760/69793 [============================>.] - ETA: 0s - loss: 2.3868 - accuracy: 0.4441WARNING:tensorflow:Reduce LR on plateau conditioned on metric `val_acc` which is not available. Available metrics are: loss,accuracy,val_loss,val_accuracy,lr\n",
      "69793/69793 [==============================] - 72s 1ms/sample - loss: 2.3867 - accuracy: 0.4441 - val_loss: 2.0998 - val_accuracy: 0.5212\n",
      "Epoch 9/60\n",
      "69760/69793 [============================>.] - ETA: 0s - loss: 2.2667 - accuracy: 0.4646WARNING:tensorflow:Reduce LR on plateau conditioned on metric `val_acc` which is not available. Available metrics are: loss,accuracy,val_loss,val_accuracy,lr\n",
      "69793/69793 [==============================] - 73s 1ms/sample - loss: 2.2666 - accuracy: 0.4647 - val_loss: 1.9888 - val_accuracy: 0.5389\n",
      "Epoch 10/60\n",
      "69760/69793 [============================>.] - ETA: 0s - loss: 2.1748 - accuracy: 0.4790WARNING:tensorflow:Reduce LR on plateau conditioned on metric `val_acc` which is not available. Available metrics are: loss,accuracy,val_loss,val_accuracy,lr\n",
      "69793/69793 [==============================] - 77s 1ms/sample - loss: 2.1749 - accuracy: 0.4789 - val_loss: 1.8989 - val_accuracy: 0.5527\n",
      "Epoch 11/60\n",
      "69760/69793 [============================>.] - ETA: 0s - loss: 2.1013 - accuracy: 0.4941WARNING:tensorflow:Reduce LR on plateau conditioned on metric `val_acc` which is not available. Available metrics are: loss,accuracy,val_loss,val_accuracy,lr\n",
      "69793/69793 [==============================] - 76s 1ms/sample - loss: 2.1012 - accuracy: 0.4942 - val_loss: 1.8264 - val_accuracy: 0.5635\n",
      "Epoch 12/60\n",
      "69760/69793 [============================>.] - ETA: 0s - loss: 2.0362 - accuracy: 0.5036WARNING:tensorflow:Reduce LR on plateau conditioned on metric `val_acc` which is not available. Available metrics are: loss,accuracy,val_loss,val_accuracy,lr\n",
      "69793/69793 [==============================] - 77s 1ms/sample - loss: 2.0363 - accuracy: 0.5035 - val_loss: 1.7623 - val_accuracy: 0.5741\n",
      "Epoch 13/60\n",
      "69760/69793 [============================>.] - ETA: 0s - loss: 1.9804 - accuracy: 0.5148WARNING:tensorflow:Reduce LR on plateau conditioned on metric `val_acc` which is not available. Available metrics are: loss,accuracy,val_loss,val_accuracy,lr\n",
      "69793/69793 [==============================] - 77s 1ms/sample - loss: 1.9805 - accuracy: 0.5148 - val_loss: 1.7094 - val_accuracy: 0.5822\n",
      "Epoch 14/60\n",
      "69760/69793 [============================>.] - ETA: 0s - loss: 1.9322 - accuracy: 0.5223WARNING:tensorflow:Reduce LR on plateau conditioned on metric `val_acc` which is not available. Available metrics are: loss,accuracy,val_loss,val_accuracy,lr\n",
      "69793/69793 [==============================] - 76s 1ms/sample - loss: 1.9321 - accuracy: 0.5224 - val_loss: 1.6617 - val_accuracy: 0.5893\n",
      "Epoch 15/60\n",
      "69760/69793 [============================>.] - ETA: 0s - loss: 1.8915 - accuracy: 0.5315WARNING:tensorflow:Reduce LR on plateau conditioned on metric `val_acc` which is not available. Available metrics are: loss,accuracy,val_loss,val_accuracy,lr\n",
      "69793/69793 [==============================] - 81s 1ms/sample - loss: 1.8913 - accuracy: 0.5315 - val_loss: 1.6191 - val_accuracy: 0.5959\n",
      "Epoch 16/60\n",
      "69760/69793 [============================>.] - ETA: 0s - loss: 1.8459 - accuracy: 0.5383WARNING:tensorflow:Reduce LR on plateau conditioned on metric `val_acc` which is not available. Available metrics are: loss,accuracy,val_loss,val_accuracy,lr\n",
      "69793/69793 [==============================] - 92s 1ms/sample - loss: 1.8460 - accuracy: 0.5382 - val_loss: 1.5817 - val_accuracy: 0.6010\n",
      "Epoch 17/60\n",
      "69760/69793 [============================>.] - ETA: 0s - loss: 1.8136 - accuracy: 0.5433WARNING:tensorflow:Reduce LR on plateau conditioned on metric `val_acc` which is not available. Available metrics are: loss,accuracy,val_loss,val_accuracy,lr\n",
      "69793/69793 [==============================] - 94s 1ms/sample - loss: 1.8136 - accuracy: 0.5433 - val_loss: 1.5470 - val_accuracy: 0.6069\n",
      "Epoch 18/60\n",
      "69760/69793 [============================>.] - ETA: 0s - loss: 1.7756 - accuracy: 0.5519WARNING:tensorflow:Reduce LR on plateau conditioned on metric `val_acc` which is not available. Available metrics are: loss,accuracy,val_loss,val_accuracy,lr\n",
      "69793/69793 [==============================] - 93s 1ms/sample - loss: 1.7757 - accuracy: 0.5519 - val_loss: 1.5148 - val_accuracy: 0.6108\n",
      "Epoch 19/60\n",
      "69760/69793 [============================>.] - ETA: 0s - loss: 1.7498 - accuracy: 0.5554WARNING:tensorflow:Reduce LR on plateau conditioned on metric `val_acc` which is not available. Available metrics are: loss,accuracy,val_loss,val_accuracy,lr\n",
      "69793/69793 [==============================] - 97s 1ms/sample - loss: 1.7495 - accuracy: 0.5555 - val_loss: 1.4858 - val_accuracy: 0.6164\n",
      "Epoch 20/60\n",
      "69760/69793 [============================>.] - ETA: 0s - loss: 1.7241 - accuracy: 0.5606WARNING:tensorflow:Reduce LR on plateau conditioned on metric `val_acc` which is not available. Available metrics are: loss,accuracy,val_loss,val_accuracy,lr\n",
      "69793/69793 [==============================] - 99s 1ms/sample - loss: 1.7241 - accuracy: 0.5606 - val_loss: 1.4581 - val_accuracy: 0.6205\n",
      "Epoch 21/60\n",
      "69760/69793 [============================>.] - ETA: 0s - loss: 1.7004 - accuracy: 0.5632WARNING:tensorflow:Reduce LR on plateau conditioned on metric `val_acc` which is not available. Available metrics are: loss,accuracy,val_loss,val_accuracy,lr\n"
     ]
    },
    {
     "name": "stdout",
     "output_type": "stream",
     "text": [
      "69793/69793 [==============================] - 99s 1ms/sample - loss: 1.7008 - accuracy: 0.5632 - val_loss: 1.4332 - val_accuracy: 0.6244\n",
      "Epoch 22/60\n",
      "69760/69793 [============================>.] - ETA: 0s - loss: 1.6753 - accuracy: 0.5674 ETA: 1sWARNING:tensorflow:Reduce LR on plateau conditioned on metric `val_acc` which is not available. Available metrics are: loss,accuracy,val_loss,val_accuracy,lr\n",
      "69793/69793 [==============================] - 99s 1ms/sample - loss: 1.6754 - accuracy: 0.5674 - val_loss: 1.4099 - val_accuracy: 0.6299\n",
      "Epoch 23/60\n",
      "69760/69793 [============================>.] - ETA: 0s - loss: 1.6509 - accuracy: 0.5740WARNING:tensorflow:Reduce LR on plateau conditioned on metric `val_acc` which is not available. Available metrics are: loss,accuracy,val_loss,val_accuracy,lr\n",
      "69793/69793 [==============================] - 95s 1ms/sample - loss: 1.6510 - accuracy: 0.5739 - val_loss: 1.3882 - val_accuracy: 0.6338\n",
      "Epoch 24/60\n",
      "69760/69793 [============================>.] - ETA: 0s - loss: 1.6339 - accuracy: 0.5753WARNING:tensorflow:Reduce LR on plateau conditioned on metric `val_acc` which is not available. Available metrics are: loss,accuracy,val_loss,val_accuracy,lr\n",
      "69793/69793 [==============================] - 100s 1ms/sample - loss: 1.6340 - accuracy: 0.5753 - val_loss: 1.3682 - val_accuracy: 0.6382\n",
      "Epoch 25/60\n",
      "69760/69793 [============================>.] - ETA: 0s - loss: 1.6098 - accuracy: 0.5815WARNING:tensorflow:Reduce LR on plateau conditioned on metric `val_acc` which is not available. Available metrics are: loss,accuracy,val_loss,val_accuracy,lr\n",
      "69793/69793 [==============================] - 102s 1ms/sample - loss: 1.6098 - accuracy: 0.5814 - val_loss: 1.3495 - val_accuracy: 0.6419\n",
      "Epoch 26/60\n",
      "69760/69793 [============================>.] - ETA: 0s - loss: 1.6022 - accuracy: 0.5838 EWARNING:tensorflow:Reduce LR on plateau conditioned on metric `val_acc` which is not available. Available metrics are: loss,accuracy,val_loss,val_accuracy,lr\n",
      "69793/69793 [==============================] - 99s 1ms/sample - loss: 1.6021 - accuracy: 0.5837 - val_loss: 1.3327 - val_accuracy: 0.6444\n",
      "Epoch 27/60\n",
      "69760/69793 [============================>.] - ETA: 0s - loss: 1.5825 - accuracy: 0.5853WARNING:tensorflow:Reduce LR on plateau conditioned on metric `val_acc` which is not available. Available metrics are: loss,accuracy,val_loss,val_accuracy,lr\n",
      "69793/69793 [==============================] - 101s 1ms/sample - loss: 1.5823 - accuracy: 0.5853 - val_loss: 1.3165 - val_accuracy: 0.6482\n",
      "Epoch 28/60\n",
      "69760/69793 [============================>.] - ETA: 0s - loss: 1.5634 - accuracy: 0.5904WARNING:tensorflow:Reduce LR on plateau conditioned on metric `val_acc` which is not available. Available metrics are: loss,accuracy,val_loss,val_accuracy,lr\n",
      "69793/69793 [==============================] - 100s 1ms/sample - loss: 1.5633 - accuracy: 0.5904 - val_loss: 1.3001 - val_accuracy: 0.6514\n",
      "Epoch 29/60\n",
      "69760/69793 [============================>.] - ETA: 0s - loss: 1.5493 - accuracy: 0.5908WARNING:tensorflow:Reduce LR on plateau conditioned on metric `val_acc` which is not available. Available metrics are: loss,accuracy,val_loss,val_accuracy,lr\n",
      "69793/69793 [==============================] - 100s 1ms/sample - loss: 1.5491 - accuracy: 0.5908 - val_loss: 1.2843 - val_accuracy: 0.6543\n",
      "Epoch 30/60\n",
      "69760/69793 [============================>.] - ETA: 0s - loss: 1.5381 - accuracy: 0.5947WARNING:tensorflow:Reduce LR on plateau conditioned on metric `val_acc` which is not available. Available metrics are: loss,accuracy,val_loss,val_accuracy,lr\n",
      "69793/69793 [==============================] - 99s 1ms/sample - loss: 1.5380 - accuracy: 0.5948 - val_loss: 1.2712 - val_accuracy: 0.6563\n",
      "Epoch 31/60\n",
      "69760/69793 [============================>.] - ETA: 0s - loss: 1.5222 - accuracy: 0.5972WARNING:tensorflow:Reduce LR on plateau conditioned on metric `val_acc` which is not available. Available metrics are: loss,accuracy,val_loss,val_accuracy,lr\n",
      "69793/69793 [==============================] - 100s 1ms/sample - loss: 1.5223 - accuracy: 0.5972 - val_loss: 1.2582 - val_accuracy: 0.6590\n",
      "Epoch 32/60\n",
      "69760/69793 [============================>.] - ETA: 0s - loss: 1.5064 - accuracy: 0.5987WARNING:tensorflow:Reduce LR on plateau conditioned on metric `val_acc` which is not available. Available metrics are: loss,accuracy,val_loss,val_accuracy,lr\n",
      "69793/69793 [==============================] - 103s 1ms/sample - loss: 1.5063 - accuracy: 0.5987 - val_loss: 1.2443 - val_accuracy: 0.6619\n",
      "Epoch 33/60\n",
      "69760/69793 [============================>.] - ETA: 0s - loss: 1.4969 - accuracy: 0.6038WARNING:tensorflow:Reduce LR on plateau conditioned on metric `val_acc` which is not available. Available metrics are: loss,accuracy,val_loss,val_accuracy,lr\n",
      "69793/69793 [==============================] - 107s 2ms/sample - loss: 1.4969 - accuracy: 0.6038 - val_loss: 1.2330 - val_accuracy: 0.6643\n",
      "Epoch 34/60\n",
      "69760/69793 [============================>.] - ETA: 0s - loss: 1.4835 - accuracy: 0.6049WARNING:tensorflow:Reduce LR on plateau conditioned on metric `val_acc` which is not available. Available metrics are: loss,accuracy,val_loss,val_accuracy,lr\n",
      "69793/69793 [==============================] - 100s 1ms/sample - loss: 1.4835 - accuracy: 0.6048 - val_loss: 1.2209 - val_accuracy: 0.6673\n",
      "Epoch 35/60\n",
      "69760/69793 [============================>.] - ETA: 0s - loss: 1.4750 - accuracy: 0.6082WARNING:tensorflow:Reduce LR on plateau conditioned on metric `val_acc` which is not available. Available metrics are: loss,accuracy,val_loss,val_accuracy,lr\n",
      "69793/69793 [==============================] - 94s 1ms/sample - loss: 1.4750 - accuracy: 0.6081 - val_loss: 1.2102 - val_accuracy: 0.6702\n",
      "Epoch 36/60\n",
      "69760/69793 [============================>.] - ETA: 0s - loss: 1.4601 - accuracy: 0.6079WARNING:tensorflow:Reduce LR on plateau conditioned on metric `val_acc` which is not available. Available metrics are: loss,accuracy,val_loss,val_accuracy,lr\n",
      "69793/69793 [==============================] - 97s 1ms/sample - loss: 1.4601 - accuracy: 0.6079 - val_loss: 1.2001 - val_accuracy: 0.6722\n",
      "Epoch 37/60\n",
      "69760/69793 [============================>.] - ETA: 0s - loss: 1.4495 - accuracy: 0.6116WARNING:tensorflow:Reduce LR on plateau conditioned on metric `val_acc` which is not available. Available metrics are: loss,accuracy,val_loss,val_accuracy,lr\n",
      "69793/69793 [==============================] - 94s 1ms/sample - loss: 1.4496 - accuracy: 0.6116 - val_loss: 1.1895 - val_accuracy: 0.6743\n",
      "Epoch 38/60\n",
      "69760/69793 [============================>.] - ETA: 0s - loss: 1.4404 - accuracy: 0.6144WARNING:tensorflow:Reduce LR on plateau conditioned on metric `val_acc` which is not available. Available metrics are: loss,accuracy,val_loss,val_accuracy,lr\n",
      "69793/69793 [==============================] - 92s 1ms/sample - loss: 1.4404 - accuracy: 0.6144 - val_loss: 1.1797 - val_accuracy: 0.6768\n",
      "Epoch 39/60\n",
      "69760/69793 [============================>.] - ETA: 0s - loss: 1.4350 - accuracy: 0.6146WARNING:tensorflow:Reduce LR on plateau conditioned on metric `val_acc` which is not available. Available metrics are: loss,accuracy,val_loss,val_accuracy,lr\n",
      "69793/69793 [==============================] - 91s 1ms/sample - loss: 1.4349 - accuracy: 0.6146 - val_loss: 1.1718 - val_accuracy: 0.6786\n",
      "Epoch 40/60\n",
      "69760/69793 [============================>.] - ETA: 0s - loss: 1.4237 - accuracy: 0.6178WARNING:tensorflow:Reduce LR on plateau conditioned on metric `val_acc` which is not available. Available metrics are: loss,accuracy,val_loss,val_accuracy,lr\n",
      "69793/69793 [==============================] - 92s 1ms/sample - loss: 1.4239 - accuracy: 0.6178 - val_loss: 1.1625 - val_accuracy: 0.6813\n",
      "Epoch 41/60\n",
      "69760/69793 [============================>.] - ETA: 0s - loss: 1.4150 - accuracy: 0.6189WARNING:tensorflow:Reduce LR on plateau conditioned on metric `val_acc` which is not available. Available metrics are: loss,accuracy,val_loss,val_accuracy,lr\n",
      "69793/69793 [==============================] - 93s 1ms/sample - loss: 1.4150 - accuracy: 0.6189 - val_loss: 1.1539 - val_accuracy: 0.6838\n",
      "Epoch 42/60\n"
     ]
    },
    {
     "name": "stdout",
     "output_type": "stream",
     "text": [
      "69760/69793 [============================>.] - ETA: 0s - loss: 1.4036 - accuracy: 0.6203WARNING:tensorflow:Reduce LR on plateau conditioned on metric `val_acc` which is not available. Available metrics are: loss,accuracy,val_loss,val_accuracy,lr\n",
      "69793/69793 [==============================] - 90s 1ms/sample - loss: 1.4038 - accuracy: 0.6202 - val_loss: 1.1450 - val_accuracy: 0.6862\n",
      "Epoch 43/60\n",
      "69760/69793 [============================>.] - ETA: 0s - loss: 1.3965 - accuracy: 0.6222WARNING:tensorflow:Reduce LR on plateau conditioned on metric `val_acc` which is not available. Available metrics are: loss,accuracy,val_loss,val_accuracy,lr\n",
      "69793/69793 [==============================] - 91s 1ms/sample - loss: 1.3965 - accuracy: 0.6222 - val_loss: 1.1361 - val_accuracy: 0.6884\n",
      "Epoch 44/60\n",
      "69760/69793 [============================>.] - ETA: 0s - loss: 1.3932 - accuracy: 0.6225WARNING:tensorflow:Reduce LR on plateau conditioned on metric `val_acc` which is not available. Available metrics are: loss,accuracy,val_loss,val_accuracy,lr\n",
      "69793/69793 [==============================] - 90s 1ms/sample - loss: 1.3929 - accuracy: 0.6226 - val_loss: 1.1288 - val_accuracy: 0.6905\n",
      "Epoch 45/60\n",
      "69760/69793 [============================>.] - ETA: 0s - loss: 1.3826 - accuracy: 0.6257WARNING:tensorflow:Reduce LR on plateau conditioned on metric `val_acc` which is not available. Available metrics are: loss,accuracy,val_loss,val_accuracy,lr\n",
      "69793/69793 [==============================] - 91s 1ms/sample - loss: 1.3825 - accuracy: 0.6257 - val_loss: 1.1216 - val_accuracy: 0.6909\n",
      "Epoch 46/60\n",
      "69760/69793 [============================>.] - ETA: 0s - loss: 1.3722 - accuracy: 0.6272WARNING:tensorflow:Reduce LR on plateau conditioned on metric `val_acc` which is not available. Available metrics are: loss,accuracy,val_loss,val_accuracy,lr\n",
      "69793/69793 [==============================] - 90s 1ms/sample - loss: 1.3722 - accuracy: 0.6272 - val_loss: 1.1142 - val_accuracy: 0.6930\n",
      "Epoch 47/60\n",
      "69760/69793 [============================>.] - ETA: 0s - loss: 1.3625 - accuracy: 0.6287WARNING:tensorflow:Reduce LR on plateau conditioned on metric `val_acc` which is not available. Available metrics are: loss,accuracy,val_loss,val_accuracy,lr\n",
      "69793/69793 [==============================] - 90s 1ms/sample - loss: 1.3624 - accuracy: 0.6287 - val_loss: 1.1071 - val_accuracy: 0.6943\n",
      "Epoch 48/60\n",
      "69760/69793 [============================>.] - ETA: 0s - loss: 1.3558 - accuracy: 0.6298WARNING:tensorflow:Reduce LR on plateau conditioned on metric `val_acc` which is not available. Available metrics are: loss,accuracy,val_loss,val_accuracy,lr\n",
      "69793/69793 [==============================] - 80s 1ms/sample - loss: 1.3558 - accuracy: 0.6297 - val_loss: 1.1009 - val_accuracy: 0.6945\n",
      "Epoch 49/60\n",
      "69760/69793 [============================>.] - ETA: 0s - loss: 1.3509 - accuracy: 0.6320WARNING:tensorflow:Reduce LR on plateau conditioned on metric `val_acc` which is not available. Available metrics are: loss,accuracy,val_loss,val_accuracy,lr\n",
      "69793/69793 [==============================] - 77s 1ms/sample - loss: 1.3509 - accuracy: 0.6320 - val_loss: 1.0942 - val_accuracy: 0.6962\n",
      "Epoch 50/60\n",
      "69760/69793 [============================>.] - ETA: 0s - loss: 1.3440 - accuracy: 0.6329WARNING:tensorflow:Reduce LR on plateau conditioned on metric `val_acc` which is not available. Available metrics are: loss,accuracy,val_loss,val_accuracy,lr\n",
      "69793/69793 [==============================] - 78s 1ms/sample - loss: 1.3442 - accuracy: 0.6329 - val_loss: 1.0885 - val_accuracy: 0.6973\n",
      "Epoch 51/60\n",
      "69760/69793 [============================>.] - ETA: 0s - loss: 1.3360 - accuracy: 0.6348WARNING:tensorflow:Reduce LR on plateau conditioned on metric `val_acc` which is not available. Available metrics are: loss,accuracy,val_loss,val_accuracy,lr\n",
      "69793/69793 [==============================] - 77s 1ms/sample - loss: 1.3362 - accuracy: 0.6347 - val_loss: 1.0821 - val_accuracy: 0.6986\n",
      "Epoch 52/60\n",
      "69760/69793 [============================>.] - ETA: 0s - loss: 1.3322 - accuracy: 0.6359WARNING:tensorflow:Reduce LR on plateau conditioned on metric `val_acc` which is not available. Available metrics are: loss,accuracy,val_loss,val_accuracy,lr\n",
      "69793/69793 [==============================] - 78s 1ms/sample - loss: 1.3321 - accuracy: 0.6359 - val_loss: 1.0765 - val_accuracy: 0.6998\n",
      "Epoch 53/60\n",
      "69760/69793 [============================>.] - ETA: 0s - loss: 1.3263 - accuracy: 0.6383WARNING:tensorflow:Reduce LR on plateau conditioned on metric `val_acc` which is not available. Available metrics are: loss,accuracy,val_loss,val_accuracy,lr\n",
      "69793/69793 [==============================] - 78s 1ms/sample - loss: 1.3265 - accuracy: 0.6383 - val_loss: 1.0694 - val_accuracy: 0.7019\n",
      "Epoch 54/60\n",
      "69760/69793 [============================>.] - ETA: 0s - loss: 1.3205 - accuracy: 0.6361WARNING:tensorflow:Reduce LR on plateau conditioned on metric `val_acc` which is not available. Available metrics are: loss,accuracy,val_loss,val_accuracy,lr\n",
      "69793/69793 [==============================] - 77s 1ms/sample - loss: 1.3205 - accuracy: 0.6361 - val_loss: 1.0650 - val_accuracy: 0.7036\n",
      "Epoch 55/60\n",
      "69760/69793 [============================>.] - ETA: 0s - loss: 1.3069 - accuracy: 0.6409WARNING:tensorflow:Reduce LR on plateau conditioned on metric `val_acc` which is not available. Available metrics are: loss,accuracy,val_loss,val_accuracy,lr\n",
      "69793/69793 [==============================] - 78s 1ms/sample - loss: 1.3069 - accuracy: 0.6410 - val_loss: 1.0589 - val_accuracy: 0.7052\n",
      "Epoch 56/60\n",
      "69760/69793 [============================>.] - ETA: 0s - loss: 1.3110 - accuracy: 0.6418WARNING:tensorflow:Reduce LR on plateau conditioned on metric `val_acc` which is not available. Available metrics are: loss,accuracy,val_loss,val_accuracy,lr\n",
      "69793/69793 [==============================] - 78s 1ms/sample - loss: 1.3111 - accuracy: 0.6418 - val_loss: 1.0535 - val_accuracy: 0.7057\n",
      "Epoch 57/60\n",
      "69760/69793 [============================>.] - ETA: 0s - loss: 1.3034 - accuracy: 0.6427WARNING:tensorflow:Reduce LR on plateau conditioned on metric `val_acc` which is not available. Available metrics are: loss,accuracy,val_loss,val_accuracy,lr\n",
      "69793/69793 [==============================] - 78s 1ms/sample - loss: 1.3033 - accuracy: 0.6426 - val_loss: 1.0486 - val_accuracy: 0.7073\n",
      "Epoch 58/60\n",
      "69760/69793 [============================>.] - ETA: 0s - loss: 1.2922 - accuracy: 0.6449WARNING:tensorflow:Reduce LR on plateau conditioned on metric `val_acc` which is not available. Available metrics are: loss,accuracy,val_loss,val_accuracy,lr\n",
      "69793/69793 [==============================] - 78s 1ms/sample - loss: 1.2923 - accuracy: 0.6449 - val_loss: 1.0439 - val_accuracy: 0.7077\n",
      "Epoch 59/60\n",
      "69760/69793 [============================>.] - ETA: 0s - loss: 1.2911 - accuracy: 0.6439WARNING:tensorflow:Reduce LR on plateau conditioned on metric `val_acc` which is not available. Available metrics are: loss,accuracy,val_loss,val_accuracy,lr\n",
      "69793/69793 [==============================] - 78s 1ms/sample - loss: 1.2911 - accuracy: 0.6439 - val_loss: 1.0377 - val_accuracy: 0.7103\n",
      "Epoch 60/60\n",
      "69760/69793 [============================>.] - ETA: 0s - loss: 1.2865 - accuracy: 0.6456WARNING:tensorflow:Reduce LR on plateau conditioned on metric `val_acc` which is not available. Available metrics are: loss,accuracy,val_loss,val_accuracy,lr\n",
      "69793/69793 [==============================] - 78s 1ms/sample - loss: 1.2867 - accuracy: 0.6455 - val_loss: 1.0329 - val_accuracy: 0.7103\n"
     ]
    }
   ],
   "source": [
    "learning_rate_reduction = keras.callbacks.ReduceLROnPlateau(monitor='val_acc', patience=3, verbose=1, factor=0.5, min_lr=0.00001)\n",
    "\n",
    "# Required for learning_rate_reduction:\n",
    "#keras.backend.get_session().run(tf.global_variables_initializer())\n",
    "s = tf.compat.v1.Session()\n",
    "with tf.compat.v1.get_default_graph().as_default():\n",
    "    h = tf.compat.v1.global_variables_initializer()\n",
    "\n",
    "s.run(h)\n",
    "\n",
    "model = emnist_model()\n",
    "#tf.compat.v1.keras.backend.get_session().run(tf.compat.v1.global_variables_initializer())\n",
    "model.fit(X_train, x_train_cat, validation_data=(X_test, y_test_cat), callbacks=[learning_rate_reduction], batch_size=64, epochs=60)\n",
    "\n",
    "model.save('emnist_letters.h5')"
   ]
  },
  {
   "cell_type": "code",
   "execution_count": 20,
   "metadata": {},
   "outputs": [],
   "source": [
    "model = keras.models.load_model('emnist_letters.h5')\n",
    "\n",
    "def emnist_predict_img(model, img):\n",
    "    img_arr = np.expand_dims(img, axis=0)\n",
    "    img_arr = 1 - img_arr/255.0\n",
    "    #img_arr[0] = np.rot90(img_arr[0], 3)\n",
    "    img_arr[0] = np.fliplr(img_arr[0])\n",
    "    img_arr = img_arr.reshape((1, 28, 28, 1))\n",
    "\n",
    "    result = model.predict_classes([img_arr])\n",
    "    return chr(emnist_labels[result[0]])"
   ]
  },
  {
   "cell_type": "code",
   "execution_count": 21,
   "metadata": {},
   "outputs": [],
   "source": [
    "def img_to_str(model, image_file):\n",
    "    letters = letters_extract(image_file)\n",
    "    s_out = \"\"\n",
    "    for i in range(len(letters)):\n",
    "        dn = letters[i+1][0] - letters[i][0] - letters[i][1] if i < len(letters) - 1 else 0\n",
    "        s_out += emnist_predict_img(model, letters[i][2])\n",
    "        if (dn > letters[i][1]/4):\n",
    "            s_out += ' '\n",
    "    return s_out"
   ]
  },
  {
   "cell_type": "code",
   "execution_count": 22,
   "metadata": {},
   "outputs": [],
   "source": [
    "model = keras.models.load_model('emnist_letters.h5')"
   ]
  },
  {
   "cell_type": "code",
   "execution_count": 23,
   "metadata": {},
   "outputs": [],
   "source": [
    "s_out = img_to_str(model, 'a.png')"
   ]
  },
  {
   "cell_type": "code",
   "execution_count": 24,
   "metadata": {},
   "outputs": [
    {
     "name": "stdout",
     "output_type": "stream",
     "text": [
      "K\n"
     ]
    }
   ],
   "source": [
    "print(s_out)"
   ]
  },
  {
   "cell_type": "code",
   "execution_count": null,
   "metadata": {},
   "outputs": [],
   "source": []
  }
 ],
 "metadata": {
  "kernelspec": {
   "display_name": "Python 3",
   "language": "python",
   "name": "python3"
  },
  "language_info": {
   "codemirror_mode": {
    "name": "ipython",
    "version": 3
   },
   "file_extension": ".py",
   "mimetype": "text/x-python",
   "name": "python",
   "nbconvert_exporter": "python",
   "pygments_lexer": "ipython3",
   "version": "3.7.6"
  },
  "toc": {
   "base_numbering": 1,
   "nav_menu": {},
   "number_sections": false,
   "sideBar": false,
   "skip_h1_title": false,
   "title_cell": "Table of Contents",
   "title_sidebar": "Contents",
   "toc_cell": false,
   "toc_position": {},
   "toc_section_display": false,
   "toc_window_display": false
  }
 },
 "nbformat": 4,
 "nbformat_minor": 4
}
